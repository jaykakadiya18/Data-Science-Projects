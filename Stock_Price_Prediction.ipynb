{
  "nbformat": 4,
  "nbformat_minor": 0,
  "metadata": {
    "colab": {
      "name": "Stock Price Prediction.ipynb",
      "provenance": [],
      "authorship_tag": "ABX9TyP04Q46YcXGQ2At3KHwqaeY",
      "include_colab_link": true
    },
    "kernelspec": {
      "name": "python3",
      "display_name": "Python 3"
    }
  },
  "cells": [
    {
      "cell_type": "markdown",
      "metadata": {
        "id": "view-in-github",
        "colab_type": "text"
      },
      "source": [
        "<a href=\"https://colab.research.google.com/github/jaykakadiya18/Data-Science-Projects/blob/master/Stock_Price_Prediction.ipynb\" target=\"_parent\"><img src=\"https://colab.research.google.com/assets/colab-badge.svg\" alt=\"Open In Colab\"/></a>"
      ]
    },
    {
      "cell_type": "code",
      "metadata": {
        "id": "ly2SYcHyE48g"
      },
      "source": [
        "#Stock price predicttion"
      ],
      "execution_count": 1,
      "outputs": []
    },
    {
      "cell_type": "code",
      "metadata": {
        "id": "EcaZm1owFn1P"
      },
      "source": [
        "#Import the libraries\r\n",
        "import math\r\n",
        "import pandas_datareader as web\r\n",
        "import numpy as np\r\n",
        "import pandas as pd\r\n",
        "from sklearn.preprocessing import MinMaxScaler\r\n",
        "from keras.models import Sequential\r\n",
        "from keras.layers import Dense, LSTM\r\n",
        "import matplotlib.pyplot as plt\r\n",
        "plt.style.use('fivethirtyeight') "
      ],
      "execution_count": 2,
      "outputs": []
    },
    {
      "cell_type": "code",
      "metadata": {
        "colab": {
          "base_uri": "https://localhost:8080/",
          "height": 450
        },
        "id": "EzF5GUYoGx12",
        "outputId": "75c8becf-dbd5-4157-9dc6-bdfa47eb31e0"
      },
      "source": [
        "#get the stock quote\r\n",
        "#collect the data from yahoo finance\r\n",
        "df = web.DataReader('AAPL', data_source='yahoo', start='2013-01-01', end='2020-12-11')\r\n",
        "#show the data(df means data fream)\r\n",
        "df"
      ],
      "execution_count": 3,
      "outputs": [
        {
          "output_type": "execute_result",
          "data": {
            "text/html": [
              "<div>\n",
              "<style scoped>\n",
              "    .dataframe tbody tr th:only-of-type {\n",
              "        vertical-align: middle;\n",
              "    }\n",
              "\n",
              "    .dataframe tbody tr th {\n",
              "        vertical-align: top;\n",
              "    }\n",
              "\n",
              "    .dataframe thead th {\n",
              "        text-align: right;\n",
              "    }\n",
              "</style>\n",
              "<table border=\"1\" class=\"dataframe\">\n",
              "  <thead>\n",
              "    <tr style=\"text-align: right;\">\n",
              "      <th></th>\n",
              "      <th>High</th>\n",
              "      <th>Low</th>\n",
              "      <th>Open</th>\n",
              "      <th>Close</th>\n",
              "      <th>Volume</th>\n",
              "      <th>Adj Close</th>\n",
              "    </tr>\n",
              "    <tr>\n",
              "      <th>Date</th>\n",
              "      <th></th>\n",
              "      <th></th>\n",
              "      <th></th>\n",
              "      <th></th>\n",
              "      <th></th>\n",
              "      <th></th>\n",
              "    </tr>\n",
              "  </thead>\n",
              "  <tbody>\n",
              "    <tr>\n",
              "      <th>2013-01-02</th>\n",
              "      <td>19.821428</td>\n",
              "      <td>19.343929</td>\n",
              "      <td>19.779285</td>\n",
              "      <td>19.608213</td>\n",
              "      <td>560518000.0</td>\n",
              "      <td>16.926661</td>\n",
              "    </tr>\n",
              "    <tr>\n",
              "      <th>2013-01-03</th>\n",
              "      <td>19.631071</td>\n",
              "      <td>19.321428</td>\n",
              "      <td>19.567142</td>\n",
              "      <td>19.360714</td>\n",
              "      <td>352965200.0</td>\n",
              "      <td>16.713015</td>\n",
              "    </tr>\n",
              "    <tr>\n",
              "      <th>2013-01-04</th>\n",
              "      <td>19.236786</td>\n",
              "      <td>18.779642</td>\n",
              "      <td>19.177500</td>\n",
              "      <td>18.821428</td>\n",
              "      <td>594333600.0</td>\n",
              "      <td>16.247477</td>\n",
              "    </tr>\n",
              "    <tr>\n",
              "      <th>2013-01-07</th>\n",
              "      <td>18.903572</td>\n",
              "      <td>18.400000</td>\n",
              "      <td>18.642857</td>\n",
              "      <td>18.710714</td>\n",
              "      <td>484156400.0</td>\n",
              "      <td>16.151909</td>\n",
              "    </tr>\n",
              "    <tr>\n",
              "      <th>2013-01-08</th>\n",
              "      <td>18.996071</td>\n",
              "      <td>18.616072</td>\n",
              "      <td>18.900356</td>\n",
              "      <td>18.761072</td>\n",
              "      <td>458707200.0</td>\n",
              "      <td>16.195379</td>\n",
              "    </tr>\n",
              "    <tr>\n",
              "      <th>...</th>\n",
              "      <td>...</td>\n",
              "      <td>...</td>\n",
              "      <td>...</td>\n",
              "      <td>...</td>\n",
              "      <td>...</td>\n",
              "      <td>...</td>\n",
              "    </tr>\n",
              "    <tr>\n",
              "      <th>2020-12-04</th>\n",
              "      <td>122.860001</td>\n",
              "      <td>121.519997</td>\n",
              "      <td>122.599998</td>\n",
              "      <td>122.250000</td>\n",
              "      <td>78260400.0</td>\n",
              "      <td>122.250000</td>\n",
              "    </tr>\n",
              "    <tr>\n",
              "      <th>2020-12-07</th>\n",
              "      <td>124.570000</td>\n",
              "      <td>122.250000</td>\n",
              "      <td>122.309998</td>\n",
              "      <td>123.750000</td>\n",
              "      <td>86712000.0</td>\n",
              "      <td>123.750000</td>\n",
              "    </tr>\n",
              "    <tr>\n",
              "      <th>2020-12-08</th>\n",
              "      <td>124.980003</td>\n",
              "      <td>123.089996</td>\n",
              "      <td>124.370003</td>\n",
              "      <td>124.379997</td>\n",
              "      <td>82225500.0</td>\n",
              "      <td>124.379997</td>\n",
              "    </tr>\n",
              "    <tr>\n",
              "      <th>2020-12-09</th>\n",
              "      <td>125.949997</td>\n",
              "      <td>121.000000</td>\n",
              "      <td>124.529999</td>\n",
              "      <td>121.779999</td>\n",
              "      <td>115089200.0</td>\n",
              "      <td>121.779999</td>\n",
              "    </tr>\n",
              "    <tr>\n",
              "      <th>2020-12-10</th>\n",
              "      <td>123.870003</td>\n",
              "      <td>120.150002</td>\n",
              "      <td>120.500000</td>\n",
              "      <td>123.239998</td>\n",
              "      <td>81122100.0</td>\n",
              "      <td>123.239998</td>\n",
              "    </tr>\n",
              "  </tbody>\n",
              "</table>\n",
              "<p>2001 rows × 6 columns</p>\n",
              "</div>"
            ],
            "text/plain": [
              "                  High         Low  ...       Volume   Adj Close\n",
              "Date                                ...                         \n",
              "2013-01-02   19.821428   19.343929  ...  560518000.0   16.926661\n",
              "2013-01-03   19.631071   19.321428  ...  352965200.0   16.713015\n",
              "2013-01-04   19.236786   18.779642  ...  594333600.0   16.247477\n",
              "2013-01-07   18.903572   18.400000  ...  484156400.0   16.151909\n",
              "2013-01-08   18.996071   18.616072  ...  458707200.0   16.195379\n",
              "...                ...         ...  ...          ...         ...\n",
              "2020-12-04  122.860001  121.519997  ...   78260400.0  122.250000\n",
              "2020-12-07  124.570000  122.250000  ...   86712000.0  123.750000\n",
              "2020-12-08  124.980003  123.089996  ...   82225500.0  124.379997\n",
              "2020-12-09  125.949997  121.000000  ...  115089200.0  121.779999\n",
              "2020-12-10  123.870003  120.150002  ...   81122100.0  123.239998\n",
              "\n",
              "[2001 rows x 6 columns]"
            ]
          },
          "metadata": {
            "tags": []
          },
          "execution_count": 3
        }
      ]
    },
    {
      "cell_type": "code",
      "metadata": {
        "colab": {
          "base_uri": "https://localhost:8080/"
        },
        "id": "NHOe5p18H3Tm",
        "outputId": "82595869-e4e8-4f4a-ceb8-70e3c55de5ec"
      },
      "source": [
        "df.shape"
      ],
      "execution_count": 4,
      "outputs": [
        {
          "output_type": "execute_result",
          "data": {
            "text/plain": [
              "(2001, 6)"
            ]
          },
          "metadata": {
            "tags": []
          },
          "execution_count": 4
        }
      ]
    },
    {
      "cell_type": "code",
      "metadata": {
        "colab": {
          "base_uri": "https://localhost:8080/",
          "height": 558
        },
        "id": "VIJBOCBCICOW",
        "outputId": "019b220b-a782-4a85-9f48-4a25df826a00"
      },
      "source": [
        "#Visualize the closing price history\r\n",
        "plt.figure(figsize=(16,8))\r\n",
        "plt.title('Close Price History')\r\n",
        "plt.plot(df['Close'])\r\n",
        "plt.xlabel('Date', fontsize=18)\r\n",
        "plt.ylabel('Close Price USD ($)', fontsize=18)\r\n",
        "plt.show()"
      ],
      "execution_count": 5,
      "outputs": [
        {
          "output_type": "display_data",
          "data": {
            "image/png": "[encoded data removed]",
            "text/plain": [
              "<Figure size 1152x576 with 1 Axes>"
            ]
          },
          "metadata": {
            "tags": []
          }
        }
      ]
    },
    {
      "cell_type": "code",
      "metadata": {
        "colab": {
          "base_uri": "https://localhost:8080/"
        },
        "id": "jPLVfjinJhuf",
        "outputId": "90b60de8-37e6-4945-e7ad-0e3fc15cad40"
      },
      "source": [
        "#create a new datafreame with only the 'Close column\r\n",
        "data = df.filter(['Close'])\r\n",
        "#convert the dataframe to a numpy array\r\n",
        "dataset = data.values\r\n",
        "#Get the number of row to train the model on\r\n",
        "training_data_len = math.ceil( len(dataset) * .8)\r\n",
        "\r\n",
        "training_data_len"
      ],
      "execution_count": 6,
      "outputs": [
        {
          "output_type": "execute_result",
          "data": {
            "text/plain": [
              "1601"
            ]
          },
          "metadata": {
            "tags": []
          },
          "execution_count": 6
        }
      ]
    },
    {
      "cell_type": "code",
      "metadata": {
        "colab": {
          "base_uri": "https://localhost:8080/"
        },
        "id": "GkdZ4kuiKm5Q",
        "outputId": "173024df-0314-4be7-e3bd-576533d8ee82"
      },
      "source": [
        "#Scale the all of the data to be values between 0 and 1 \r\n",
        "scaler = MinMaxScaler(feature_range=(0,1))\r\n",
        "scaled_data = scaler.fit_transform(dataset)\r\n",
        "\r\n",
        "scaled_data"
      ],
      "execution_count": 7,
      "outputs": [
        {
          "output_type": "execute_result",
          "data": {
            "text/plain": [
              "array([[0.04708139],\n",
              "       [0.04502289],\n",
              "       [0.04053753],\n",
              "       ...,\n",
              "       [0.91849129],\n",
              "       [0.89686653],\n",
              "       [0.90900966]])"
            ]
          },
          "metadata": {
            "tags": []
          },
          "execution_count": 7
        }
      ]
    },
    {
      "cell_type": "code",
      "metadata": {
        "id": "cV_gfi5FLldR",
        "colab": {
          "base_uri": "https://localhost:8080/"
        },
        "outputId": "ba39cf7f-59f3-44d2-f7bf-31cf2e40e472"
      },
      "source": [
        "#Create the scaled training data set \r\n",
        "train_data = scaled_data[0:training_data_len , :]\r\n",
        "#Split the data into x_train and y_train data sets\r\n",
        "x_train = []\r\n",
        "y_train = []\r\n",
        "\r\n",
        "for i in range(60, len(train_data)):\r\n",
        "  x_train.append(train_data[i-60:i, 0])\r\n",
        "  y_train.append(train_data[i, 0])\r\n",
        "  if i<= 61:\r\n",
        "    print(x_train)\r\n",
        "    print(y_train)\r\n",
        "    print()"
      ],
      "execution_count": 8,
      "outputs": [
        {
          "output_type": "stream",
          "text": [
            "[array([0.04708139, 0.04502289, 0.04053753, 0.0396167 , 0.04003553,\n",
            "       0.0375968 , 0.03950084, 0.03854735, 0.03303719, 0.02833499,\n",
            "       0.03432634, 0.03331344, 0.03251736, 0.03393425, 0.03667894,\n",
            "       0.01781369, 0.0146591 , 0.01761468, 0.02012172, 0.01969399,\n",
            "       0.01929595, 0.01874047, 0.01538388, 0.019994  , 0.01984845,\n",
            "       0.02307731, 0.02508533, 0.0265557 , 0.02298226, 0.02271789,\n",
            "       0.02259313, 0.02068314, 0.02063265, 0.01732358, 0.01649483,\n",
            "       0.01790578, 0.01552646, 0.01735923, 0.01605223, 0.01511061,\n",
            "       0.01186392, 0.00876872, 0.01206293, 0.01043514, 0.01189659,\n",
            "       0.01223522, 0.01406204, 0.01125795, 0.01123418, 0.01246691,\n",
            "       0.01578192, 0.01936427, 0.0189989 , 0.01828302, 0.0184761 ,\n",
            "       0.02120297, 0.02169903, 0.02097424, 0.01828302, 0.01548488])]\n",
            "[0.011400530420072968]\n",
            "\n",
            "[array([0.04708139, 0.04502289, 0.04053753, 0.0396167 , 0.04003553,\n",
            "       0.0375968 , 0.03950084, 0.03854735, 0.03303719, 0.02833499,\n",
            "       0.03432634, 0.03331344, 0.03251736, 0.03393425, 0.03667894,\n",
            "       0.01781369, 0.0146591 , 0.01761468, 0.02012172, 0.01969399,\n",
            "       0.01929595, 0.01874047, 0.01538388, 0.019994  , 0.01984845,\n",
            "       0.02307731, 0.02508533, 0.0265557 , 0.02298226, 0.02271789,\n",
            "       0.02259313, 0.02068314, 0.02063265, 0.01732358, 0.01649483,\n",
            "       0.01790578, 0.01552646, 0.01735923, 0.01605223, 0.01511061,\n",
            "       0.01186392, 0.00876872, 0.01206293, 0.01043514, 0.01189659,\n",
            "       0.01223522, 0.01406204, 0.01125795, 0.01123418, 0.01246691,\n",
            "       0.01578192, 0.01936427, 0.0189989 , 0.01828302, 0.0184761 ,\n",
            "       0.02120297, 0.02169903, 0.02097424, 0.01828302, 0.01548488]), array([0.04502289, 0.04053753, 0.0396167 , 0.04003553, 0.0375968 ,\n",
            "       0.03950084, 0.03854735, 0.03303719, 0.02833499, 0.03432634,\n",
            "       0.03331344, 0.03251736, 0.03393425, 0.03667894, 0.01781369,\n",
            "       0.0146591 , 0.01761468, 0.02012172, 0.01969399, 0.01929595,\n",
            "       0.01874047, 0.01538388, 0.019994  , 0.01984845, 0.02307731,\n",
            "       0.02508533, 0.0265557 , 0.02298226, 0.02271789, 0.02259313,\n",
            "       0.02068314, 0.02063265, 0.01732358, 0.01649483, 0.01790578,\n",
            "       0.01552646, 0.01735923, 0.01605223, 0.01511061, 0.01186392,\n",
            "       0.00876872, 0.01206293, 0.01043514, 0.01189659, 0.01223522,\n",
            "       0.01406204, 0.01125795, 0.01123418, 0.01246691, 0.01578192,\n",
            "       0.01936427, 0.0189989 , 0.01828302, 0.0184761 , 0.02120297,\n",
            "       0.02169903, 0.02097424, 0.01828302, 0.01548488, 0.01140053])]\n",
            "[0.011400530420072968, 0.011661926790201865]\n",
            "\n"
          ],
          "name": "stdout"
        }
      ]
    },
    {
      "cell_type": "code",
      "metadata": {
        "id": "lX4OYrxXhJ6-"
      },
      "source": [
        "#convert to x_train and y_train to numpy arrays\r\n",
        "x_train, y_train = np.array(x_train), np.array(y_train)"
      ],
      "execution_count": 9,
      "outputs": []
    },
    {
      "cell_type": "code",
      "metadata": {
        "colab": {
          "base_uri": "https://localhost:8080/"
        },
        "id": "katyQtBChke-",
        "outputId": "1fd6d5be-17d1-4f0b-ed13-b8ae9c3787b6"
      },
      "source": [
        "#Reshape the data\r\n",
        "x_train = np.reshape(x_train, (x_train.shape[0], x_train.shape[1], 1))\r\n",
        "x_train.shape"
      ],
      "execution_count": 10,
      "outputs": [
        {
          "output_type": "execute_result",
          "data": {
            "text/plain": [
              "(1541, 60, 1)"
            ]
          },
          "metadata": {
            "tags": []
          },
          "execution_count": 10
        }
      ]
    },
    {
      "cell_type": "code",
      "metadata": {
        "id": "Iyu4bzC5j0p2"
      },
      "source": [
        "#Build the LSTM model\r\n",
        "model = Sequential()\r\n",
        "model.add(LSTM(50, return_sequences=True, input_shape= (x_train.shape[1], 1)))\r\n",
        "model.add(LSTM(50, return_sequences=False))\r\n",
        "model.add(Dense(25))\r\n",
        "model.add(Dense(1))"
      ],
      "execution_count": 11,
      "outputs": []
    },
    {
      "cell_type": "code",
      "metadata": {
        "id": "pp8lwdf6ksD7"
      },
      "source": [
        "model.compile(optimizer='adam', loss='mean_squared_error')"
      ],
      "execution_count": 12,
      "outputs": []
    },
    {
      "cell_type": "code",
      "metadata": {
        "colab": {
          "base_uri": "https://localhost:8080/"
        },
        "id": "lPUib44DlgO0",
        "outputId": "240d18fe-a50e-4bfb-9b65-3a151dbed025"
      },
      "source": [
        "model.fit(x_train, y_train, batch_size=1, epochs=1)"
      ],
      "execution_count": 13,
      "outputs": [
        {
          "output_type": "stream",
          "text": [
            "1541/1541 [==============================] - 33s 22ms/step - loss: 2.3269e-04\n"
          ],
          "name": "stdout"
        },
        {
          "output_type": "execute_result",
          "data": {
            "text/plain": [
              "<tensorflow.python.keras.callbacks.History at 0x7f1c1a1b8ef0>"
            ]
          },
          "metadata": {
            "tags": []
          },
          "execution_count": 13
        }
      ]
    },
    {
      "cell_type": "code",
      "metadata": {
        "id": "wEQZQmNvmEeM"
      },
      "source": [
        "#Test data set\r\n",
        "test_data = scaled_data[training_data_len - 60: , : ]\r\n",
        "#Create the x_test and y_test data sets\r\n",
        "x_test = []\r\n",
        "y_test =  dataset[training_data_len : , : ] #Get all of the rows from index 1603 to the rest and all of the columns (in this case it's only column 'Close'), so 2003 - 1603 = 400 rows of data\r\n",
        "for i in range(60,len(test_data)):\r\n",
        "    x_test.append(test_data[i-60:i,0])"
      ],
      "execution_count": 14,
      "outputs": []
    },
    {
      "cell_type": "code",
      "metadata": {
        "id": "o-4xdBrf633R"
      },
      "source": [
        "#Convert x_test to a numpy array \r\n",
        "x_test = np.array(x_test)"
      ],
      "execution_count": 15,
      "outputs": []
    },
    {
      "cell_type": "code",
      "metadata": {
        "id": "IqNZ2e3366pY"
      },
      "source": [
        "#Reshape the data into the shape accepted by the LSTM\r\n",
        "x_test = np.reshape(x_test, (x_test.shape[0],x_test.shape[1],1))"
      ],
      "execution_count": 16,
      "outputs": []
    },
    {
      "cell_type": "code",
      "metadata": {
        "id": "8xi8ZDlm699h"
      },
      "source": [
        "#Getting the models predicted price values\r\n",
        "predictions = model.predict(x_test) \r\n",
        "predictions = scaler.inverse_transform(predictions)#Undo scaling"
      ],
      "execution_count": 17,
      "outputs": []
    },
    {
      "cell_type": "code",
      "metadata": {
        "colab": {
          "base_uri": "https://localhost:8080/"
        },
        "id": "WPga9CjT7COR",
        "outputId": "234929db-07f2-41bc-8669-f2f215f8ab21"
      },
      "source": [
        "#Calculate/Get the value of RMSE\r\n",
        "rmse=np.sqrt(np.mean(((predictions- y_test)**2)))\r\n",
        "rmse"
      ],
      "execution_count": 18,
      "outputs": [
        {
          "output_type": "execute_result",
          "data": {
            "text/plain": [
              "8.80256604584914"
            ]
          },
          "metadata": {
            "tags": []
          },
          "execution_count": 18
        }
      ]
    },
    {
      "cell_type": "code",
      "metadata": {
        "colab": {
          "base_uri": "https://localhost:8080/",
          "height": 660
        },
        "id": "Kynn_tSD7FRZ",
        "outputId": "1a2951e3-2da4-4855-ff47-266712368e0f"
      },
      "source": [
        "#Plot/Create the data for the graph\r\n",
        "train = data[:training_data_len]\r\n",
        "valid = data[training_data_len:]\r\n",
        "valid['Predictions'] = predictions\r\n",
        "#Visualize the data\r\n",
        "plt.figure(figsize=(16,8))\r\n",
        "plt.title('Model')\r\n",
        "plt.xlabel('Date', fontsize=18)\r\n",
        "plt.ylabel('Close Price USD ($)', fontsize=18)\r\n",
        "plt.plot(train['Close'])\r\n",
        "plt.plot(valid[['Close', 'Predictions']])\r\n",
        "plt.legend(['Train', 'Val', 'Predictions'], loc='lower right')\r\n",
        "plt.show()"
      ],
      "execution_count": 19,
      "outputs": [
        {
          "output_type": "stream",
          "text": [
            "/usr/local/lib/python3.6/dist-packages/ipykernel_launcher.py:4: SettingWithCopyWarning: \n",
            "A value is trying to be set on a copy of a slice from a DataFrame.\n",
            "Try using .loc[row_indexer,col_indexer] = value instead\n",
            "\n",
            "See the caveats in the documentation: https://pandas.pydata.org/pandas-docs/stable/user_guide/indexing.html#returning-a-view-versus-a-copy\n",
            "  after removing the cwd from sys.path.\n"
          ],
          "name": "stderr"
        },
        {
          "output_type": "display_data",
          "data": {
            "image/png": "[encoded data removed]",
            "text/plain": [
              "<Figure size 1152x576 with 1 Axes>"
            ]
          },
          "metadata": {
            "tags": []
          }
        }
      ]
    },
    {
      "cell_type": "code",
      "metadata": {
        "colab": {
          "base_uri": "https://localhost:8080/",
          "height": 450
        },
        "id": "76a36Tbc7J45",
        "outputId": "6aff2b1a-217c-4acb-813b-95715a0f1db2"
      },
      "source": [
        "#Show the valid and predicted prices\r\n",
        "valid"
      ],
      "execution_count": 20,
      "outputs": [
        {
          "output_type": "execute_result",
          "data": {
            "text/html": [
              "<div>\n",
              "<style scoped>\n",
              "    .dataframe tbody tr th:only-of-type {\n",
              "        vertical-align: middle;\n",
              "    }\n",
              "\n",
              "    .dataframe tbody tr th {\n",
              "        vertical-align: top;\n",
              "    }\n",
              "\n",
              "    .dataframe thead th {\n",
              "        text-align: right;\n",
              "    }\n",
              "</style>\n",
              "<table border=\"1\" class=\"dataframe\">\n",
              "  <thead>\n",
              "    <tr style=\"text-align: right;\">\n",
              "      <th></th>\n",
              "      <th>Close</th>\n",
              "      <th>Predictions</th>\n",
              "    </tr>\n",
              "    <tr>\n",
              "      <th>Date</th>\n",
              "      <th></th>\n",
              "      <th></th>\n",
              "    </tr>\n",
              "  </thead>\n",
              "  <tbody>\n",
              "    <tr>\n",
              "      <th>2019-05-14</th>\n",
              "      <td>47.165001</td>\n",
              "      <td>46.076431</td>\n",
              "    </tr>\n",
              "    <tr>\n",
              "      <th>2019-05-15</th>\n",
              "      <td>47.730000</td>\n",
              "      <td>45.258923</td>\n",
              "    </tr>\n",
              "    <tr>\n",
              "      <th>2019-05-16</th>\n",
              "      <td>47.520000</td>\n",
              "      <td>44.659191</td>\n",
              "    </tr>\n",
              "    <tr>\n",
              "      <th>2019-05-17</th>\n",
              "      <td>47.250000</td>\n",
              "      <td>44.228939</td>\n",
              "    </tr>\n",
              "    <tr>\n",
              "      <th>2019-05-20</th>\n",
              "      <td>45.772499</td>\n",
              "      <td>43.914810</td>\n",
              "    </tr>\n",
              "    <tr>\n",
              "      <th>...</th>\n",
              "      <td>...</td>\n",
              "      <td>...</td>\n",
              "    </tr>\n",
              "    <tr>\n",
              "      <th>2020-12-04</th>\n",
              "      <td>122.250000</td>\n",
              "      <td>107.196556</td>\n",
              "    </tr>\n",
              "    <tr>\n",
              "      <th>2020-12-07</th>\n",
              "      <td>123.750000</td>\n",
              "      <td>108.033134</td>\n",
              "    </tr>\n",
              "    <tr>\n",
              "      <th>2020-12-08</th>\n",
              "      <td>124.379997</td>\n",
              "      <td>108.791306</td>\n",
              "    </tr>\n",
              "    <tr>\n",
              "      <th>2020-12-09</th>\n",
              "      <td>121.779999</td>\n",
              "      <td>109.456352</td>\n",
              "    </tr>\n",
              "    <tr>\n",
              "      <th>2020-12-10</th>\n",
              "      <td>123.239998</td>\n",
              "      <td>109.548325</td>\n",
              "    </tr>\n",
              "  </tbody>\n",
              "</table>\n",
              "<p>400 rows × 2 columns</p>\n",
              "</div>"
            ],
            "text/plain": [
              "                 Close  Predictions\n",
              "Date                               \n",
              "2019-05-14   47.165001    46.076431\n",
              "2019-05-15   47.730000    45.258923\n",
              "2019-05-16   47.520000    44.659191\n",
              "2019-05-17   47.250000    44.228939\n",
              "2019-05-20   45.772499    43.914810\n",
              "...                ...          ...\n",
              "2020-12-04  122.250000   107.196556\n",
              "2020-12-07  123.750000   108.033134\n",
              "2020-12-08  124.379997   108.791306\n",
              "2020-12-09  121.779999   109.456352\n",
              "2020-12-10  123.239998   109.548325\n",
              "\n",
              "[400 rows x 2 columns]"
            ]
          },
          "metadata": {
            "tags": []
          },
          "execution_count": 20
        }
      ]
    },
    {
      "cell_type": "code",
      "metadata": {
        "colab": {
          "base_uri": "https://localhost:8080/"
        },
        "id": "b7QgpSZO7b4s",
        "outputId": "fd749bbd-ef24-4a8e-c78b-6494de2420db"
      },
      "source": [
        "#Get the quote(Now let’s see what the actual price for that day was.)\r\n",
        "apple_quote2 = web.DataReader('AAPL', data_source='yahoo', start='2020-12-11', end='2020-12-11')\r\n",
        "print(apple_quote2['Close'])"
      ],
      "execution_count": 21,
      "outputs": [
        {
          "output_type": "stream",
          "text": [
            "Date\n",
            "2020-12-10    123.239998\n",
            "Name: Close, dtype: float64\n"
          ],
          "name": "stdout"
        }
      ]
    }
  ]
}